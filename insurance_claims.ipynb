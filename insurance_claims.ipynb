{
 "cells": [
  {
   "cell_type": "code",
   "execution_count": 1,
   "metadata": {},
   "outputs": [],
   "source": [
    "import pandas as pd\n",
    "import numpy as np\n",
    "import matplotlib.pyplot as plt\n",
    "import warnings\n",
    "warnings.filterwarnings('ignore')\n",
    "from scipy.stats import chi2_contingency,f_oneway\n",
    "from sklearn.model_selection import train_test_split\n",
    "from sklearn.preprocessing import StandardScaler\n",
    "from sklearn.linear_model import LogisticRegression\n",
    "from sklearn.metrics import confusion_matrix,recall_score,precision_score,f1_score,roc_curve,roc_auc_score"
   ]
  },
  {
   "cell_type": "code",
   "execution_count": 2,
   "metadata": {},
   "outputs": [
    {
     "data": {
      "text/plain": [
       "(1000, 39)"
      ]
     },
     "execution_count": 2,
     "metadata": {},
     "output_type": "execute_result"
    }
   ],
   "source": [
    "insurance_df=pd.read_csv('insurance_claims.csv')\n",
    "insurance_df.shape"
   ]
  },
  {
   "cell_type": "code",
   "execution_count": 3,
   "metadata": {},
   "outputs": [
    {
     "data": {
      "text/plain": [
       "(1000, 39)"
      ]
     },
     "execution_count": 3,
     "metadata": {},
     "output_type": "execute_result"
    }
   ],
   "source": [
    "insurance_df_copy=insurance_df.copy()\n",
    "insurance_df_copy.shape"
   ]
  },
  {
   "cell_type": "code",
   "execution_count": 4,
   "metadata": {},
   "outputs": [],
   "source": [
    "y=insurance_df['fraud_reported']\n",
    "insurance_df.drop(columns='fraud_reported',inplace=True)"
   ]
  },
  {
   "cell_type": "code",
   "execution_count": 5,
   "metadata": {},
   "outputs": [
    {
     "data": {
      "text/plain": [
       "(1000, 38)"
      ]
     },
     "execution_count": 5,
     "metadata": {},
     "output_type": "execute_result"
    }
   ],
   "source": [
    "insurance_df.shape"
   ]
  },
  {
   "cell_type": "code",
   "execution_count": 6,
   "metadata": {},
   "outputs": [],
   "source": [
    "#dropping all unnecessary columns from dataframe\n",
    "cols_to_drop=[]\n",
    "na_df=pd.DataFrame({'columns':insurance_df.columns,'null_count':insurance_df.isnull().sum(),\n",
    "                    'na_per':insurance_df.isnull().sum()/insurance_df.shape[0]*100})\n",
    "#no null values here in given dataframe\n",
    "for col in insurance_df.columns:\n",
    "    if len(insurance_df[col].value_counts())==1 or len(insurance_df[col].value_counts())==insurance_df.shape[0]:\n",
    "        cols_to_drop.append(col)\n",
    "cols_to_drop\n",
    "insurance_df.drop(columns=cols_to_drop,inplace=True)"
   ]
  },
  {
   "cell_type": "code",
   "execution_count": 7,
   "metadata": {},
   "outputs": [
    {
     "data": {
      "text/plain": [
       "(1000, 36)"
      ]
     },
     "execution_count": 7,
     "metadata": {},
     "output_type": "execute_result"
    }
   ],
   "source": [
    "insurance_df.shape"
   ]
  },
  {
   "cell_type": "code",
   "execution_count": 8,
   "metadata": {},
   "outputs": [
    {
     "data": {
      "text/plain": [
       "months_as_customer               int64\n",
       "age                              int64\n",
       "policy_bind_date                object\n",
       "policy_state                    object\n",
       "policy_csl                      object\n",
       "policy_deductable                int64\n",
       "policy_annual_premium          float64\n",
       "umbrella_limit                   int64\n",
       "insured_zip                      int64\n",
       "insured_sex                     object\n",
       "insured_education_level         object\n",
       "insured_occupation              object\n",
       "insured_hobbies                 object\n",
       "insured_relationship            object\n",
       "capital-gains                    int64\n",
       "capital-loss                     int64\n",
       "incident_date                   object\n",
       "incident_type                   object\n",
       "collision_type                  object\n",
       "incident_severity               object\n",
       "authorities_contacted           object\n",
       "incident_state                  object\n",
       "incident_city                   object\n",
       "incident_hour_of_the_day         int64\n",
       "number_of_vehicles_involved      int64\n",
       "property_damage                 object\n",
       "bodily_injuries                  int64\n",
       "witnesses                        int64\n",
       "police_report_available         object\n",
       "total_claim_amount               int64\n",
       "injury_claim                     int64\n",
       "property_claim                   int64\n",
       "vehicle_claim                    int64\n",
       "auto_make                       object\n",
       "auto_model                      object\n",
       "auto_year                        int64\n",
       "dtype: object"
      ]
     },
     "execution_count": 8,
     "metadata": {},
     "output_type": "execute_result"
    }
   ],
   "source": [
    "insurance_df.dtypes"
   ]
  },
  {
   "cell_type": "code",
   "execution_count": 9,
   "metadata": {},
   "outputs": [],
   "source": [
    "insurance_df['policy_bind_date']=pd.to_datetime(insurance_df['policy_bind_date'])\n",
    "insurance_df['incident_date']=pd.to_datetime(insurance_df['incident_date'])\n",
    "#insurance_df"
   ]
  },
  {
   "cell_type": "code",
   "execution_count": 10,
   "metadata": {},
   "outputs": [],
   "source": [
    "#correlation check\n",
    "#CHI-SQUARE test\n",
    "correlated_columns=[]\n",
    "for col in insurance_df.columns:\n",
    "    if insurance_df[col].dtype=='object':\n",
    "        contigency_table=pd.crosstab(insurance_df[col],y)\n",
    "        res=chi2_contingency(contigency_table)\n",
    "        if res[1]<0.05:\n",
    "            correlated_columns.append(col)\n",
    "\n",
    "#ANNOVA test\n",
    "catogories_list=list(insurance_df_copy['fraud_reported'].value_counts().index)\n",
    "con_col_aftrdropng=[col for col in insurance_df.columns if insurance_df[col].dtype=='int64' or insurance_df[col].dtype=='float64']\n",
    "for col in con_col_aftrdropng:    \n",
    "    result=f_oneway(*(insurance_df_copy[insurance_df_copy['fraud_reported']==category][col] for category in catogories_list))\n",
    "    if result[1]<0.05:\n",
    "        correlated_columns.append(col)\n",
    "\n",
    "            \n",
    "corr_df=insurance_df[correlated_columns]\n",
    "#corr_df"
   ]
  },
  {
   "cell_type": "code",
   "execution_count": 11,
   "metadata": {},
   "outputs": [],
   "source": [
    "#train-test-split\n",
    "x_train,x_test,y_train,y_test=train_test_split(corr_df,y,test_size=0.2,random_state=53)"
   ]
  },
  {
   "cell_type": "code",
   "execution_count": 12,
   "metadata": {},
   "outputs": [],
   "source": [
    "#filling missing values\n",
    "for col in x_train.columns:\n",
    "    if x_train[col].dtype=='int64' or x_train[col].dtype=='float64':\n",
    "        x_train[col].fillna(x_train[col].mean(),inplace=True)\n",
    "        x_test[col].fillna(x_train[col].mean(),inplace=True)\n",
    "    if x_train[col].dtype=='object':\n",
    "        x_train[col].fillna(x_train[col].mode()[0],inplace=True)\n",
    "        x_test[col].fillna(x_train[col].mode()[0],inplace=True) \n"
   ]
  },
  {
   "cell_type": "code",
   "execution_count": 13,
   "metadata": {},
   "outputs": [],
   "source": [
    "#scaling the continuous variables\n",
    "scaler=StandardScaler()\n",
    "con_cols=[col for col in x_train.columns if x_train[col].dtype=='int64' or x_train[col].dtype=='float64']\n",
    "for col in con_cols:\n",
    "    x_train[col]=scaler.fit_transform(np.array(x_train[col]).reshape(-1,1))\n",
    "    x_test[col]=scaler.transform(np.array(x_test[col]).reshape(-1,1))\n"
   ]
  },
  {
   "cell_type": "code",
   "execution_count": 14,
   "metadata": {},
   "outputs": [],
   "source": [
    "#one-hot coding for categorical variables\n",
    "oe_train=pd.get_dummies(x_train[[col for col in x_train.columns if x_train[col].dtype=='object']])\n",
    "oe_test=pd.get_dummies(x_test[[col for col in x_test.columns if x_test[col].dtype=='object']])\n",
    "oe_train_final,oe_test_final=oe_train.align(oe_test,join='inner',axis=1)"
   ]
  },
  {
   "cell_type": "code",
   "execution_count": 15,
   "metadata": {},
   "outputs": [],
   "source": [
    "#getting final train and test inputs.\n",
    "x_train_final=pd.concat([x_train[con_cols],oe_train_final],axis=1)\n",
    "x_test_final=pd.concat([x_test[con_cols],oe_test_final],axis=1)"
   ]
  },
  {
   "cell_type": "code",
   "execution_count": 16,
   "metadata": {},
   "outputs": [
    {
     "data": {
      "text/plain": [
       "LogisticRegression()"
      ]
     },
     "execution_count": 16,
     "metadata": {},
     "output_type": "execute_result"
    }
   ],
   "source": [
    "#Training the model\n",
    "logreg=LogisticRegression()\n",
    "logreg.fit(x_train_final,y_train)"
   ]
  },
  {
   "cell_type": "code",
   "execution_count": 17,
   "metadata": {},
   "outputs": [],
   "source": [
    "#getting predictions on test inputs\n",
    "pred=logreg.predict(x_test_final)"
   ]
  },
  {
   "cell_type": "code",
   "execution_count": 18,
   "metadata": {},
   "outputs": [
    {
     "data": {
      "text/plain": [
       "array([0.0390021 , 0.0553887 , 0.1497919 , 0.96503447, 0.04378014,\n",
       "       0.04607468, 0.04398135, 0.12609814, 0.69346452, 0.50777819,\n",
       "       0.60515612, 0.03264243, 0.07729386, 0.05043094, 0.05063939,\n",
       "       0.81323108, 0.55967457, 0.0254206 , 0.5287984 , 0.07075854,\n",
       "       0.06921462, 0.46271847, 0.08321288, 0.6543703 , 0.05630006,\n",
       "       0.0423201 , 0.02455066, 0.55401241, 0.67336946, 0.07407609,\n",
       "       0.6423786 , 0.04275429, 0.77006024, 0.88292036, 0.02742929,\n",
       "       0.54511551, 0.04191807, 0.99010326, 0.26693361, 0.04033954,\n",
       "       0.67335029, 0.3959488 , 0.56521736, 0.06195534, 0.98512732,\n",
       "       0.06516549, 0.67002008, 0.5085618 , 0.56384578, 0.06079988,\n",
       "       0.454262  , 0.02064005, 0.04643204, 0.06829659, 0.10506294,\n",
       "       0.74921129, 0.43773144, 0.04339207, 0.03607766, 0.05615228,\n",
       "       0.02668158, 0.05678628, 0.95296483, 0.04040339, 0.07578695,\n",
       "       0.07523439, 0.08342953, 0.62843947, 0.08820725, 0.66887007,\n",
       "       0.5030648 , 0.08022793, 0.69308134, 0.70123928, 0.09070541,\n",
       "       0.03333096, 0.0230943 , 0.01939632, 0.03931659, 0.75869063,\n",
       "       0.5346611 , 0.05526597, 0.96053134, 0.02373979, 0.31001977,\n",
       "       0.02248018, 0.48947625, 0.05432661, 0.04397607, 0.52261858,\n",
       "       0.73222168, 0.62577888, 0.0465477 , 0.11012842, 0.03701115,\n",
       "       0.03431607, 0.04252703, 0.601399  , 0.03964531, 0.05456894,\n",
       "       0.73788317, 0.05498097, 0.0369488 , 0.5641001 , 0.61686046,\n",
       "       0.59151706, 0.0231187 , 0.07276465, 0.03437108, 0.82379813,\n",
       "       0.5468689 , 0.54335245, 0.04804304, 0.02589535, 0.02888681,\n",
       "       0.02958774, 0.0261544 , 0.03680229, 0.0334579 , 0.33823962,\n",
       "       0.03300872, 0.02666436, 0.34615147, 0.04265813, 0.44406509,\n",
       "       0.98033828, 0.13870295, 0.07011487, 0.5626272 , 0.11511992,\n",
       "       0.34277118, 0.56638411, 0.43407367, 0.67292795, 0.1011192 ,\n",
       "       0.07761469, 0.04521121, 0.03770961, 0.10337934, 0.03419682,\n",
       "       0.49646568, 0.98542866, 0.76450351, 0.06036446, 0.0203715 ,\n",
       "       0.61576763, 0.04504187, 0.69960435, 0.5685969 , 0.06200543,\n",
       "       0.60662195, 0.03306818, 0.17133533, 0.06639918, 0.04433431,\n",
       "       0.02029937, 0.1258045 , 0.04682984, 0.05306749, 0.02316275,\n",
       "       0.12968843, 0.15336282, 0.10119819, 0.77585655, 0.02540596,\n",
       "       0.47218052, 0.034363  , 0.05438915, 0.57283385, 0.60076083,\n",
       "       0.4648377 , 0.02648671, 0.72742429, 0.06842189, 0.04508297,\n",
       "       0.42370852, 0.08252754, 0.05280254, 0.05951164, 0.02826481,\n",
       "       0.03071196, 0.03708064, 0.03771711, 0.08582444, 0.64089053,\n",
       "       0.6334029 , 0.04361477, 0.12098781, 0.07503394, 0.08075868,\n",
       "       0.06411326, 0.40376236, 0.04977866, 0.73204674, 0.07697532,\n",
       "       0.0756082 , 0.08492163, 0.05773092, 0.08209482, 0.06092085])"
      ]
     },
     "execution_count": 18,
     "metadata": {},
     "output_type": "execute_result"
    }
   ],
   "source": [
    "#getting prediction probabilities\n",
    "probabilities=logreg.predict_proba(x_test_final)\n",
    "pos_prob=probabilities[::,1]\n",
    "pos_prob"
   ]
  },
  {
   "cell_type": "code",
   "execution_count": 19,
   "metadata": {},
   "outputs": [
    {
     "data": {
      "text/plain": [
       "array([[125,  20],\n",
       "       [ 16,  39]], dtype=int64)"
      ]
     },
     "execution_count": 19,
     "metadata": {},
     "output_type": "execute_result"
    }
   ],
   "source": [
    "confusion_matrix(y_test,pred)"
   ]
  },
  {
   "cell_type": "code",
   "execution_count": 20,
   "metadata": {},
   "outputs": [
    {
     "data": {
      "text/plain": [
       "0.6610169491525424"
      ]
     },
     "execution_count": 20,
     "metadata": {},
     "output_type": "execute_result"
    }
   ],
   "source": [
    "precision_score(y_test,pred,pos_label='Y')"
   ]
  },
  {
   "cell_type": "code",
   "execution_count": 21,
   "metadata": {},
   "outputs": [
    {
     "data": {
      "text/plain": [
       "0.7090909090909091"
      ]
     },
     "execution_count": 21,
     "metadata": {},
     "output_type": "execute_result"
    }
   ],
   "source": [
    "recall_score(y_test,pred,pos_label='Y')"
   ]
  },
  {
   "cell_type": "code",
   "execution_count": 22,
   "metadata": {},
   "outputs": [
    {
     "data": {
      "text/plain": [
       "0.6842105263157895"
      ]
     },
     "execution_count": 22,
     "metadata": {},
     "output_type": "execute_result"
    }
   ],
   "source": [
    "f1_score(y_test,pred,pos_label='Y')"
   ]
  },
  {
   "cell_type": "code",
   "execution_count": 23,
   "metadata": {},
   "outputs": [
    {
     "data": {
      "text/plain": [
       "(array([0.        , 0.00689655, 0.00689655, 0.0137931 , 0.0137931 ,\n",
       "        0.03448276, 0.03448276, 0.04137931, 0.04137931, 0.04827586,\n",
       "        0.04827586, 0.05517241, 0.05517241, 0.06896552, 0.06896552,\n",
       "        0.07586207, 0.07586207, 0.08275862, 0.08275862, 0.08965517,\n",
       "        0.08965517, 0.09655172, 0.09655172, 0.10344828, 0.10344828,\n",
       "        0.11724138, 0.11724138, 0.12413793, 0.12413793, 0.13103448,\n",
       "        0.13103448, 0.13793103, 0.13793103, 0.14482759, 0.14482759,\n",
       "        0.15172414, 0.15172414, 0.15862069, 0.15862069, 0.17241379,\n",
       "        0.17241379, 0.24827586, 0.24827586, 0.35172414, 0.35172414,\n",
       "        0.42068966, 0.42068966, 0.65517241, 0.65517241, 0.74482759,\n",
       "        0.74482759, 1.        ]),\n",
       " array([0.        , 0.        , 0.01818182, 0.01818182, 0.03636364,\n",
       "        0.03636364, 0.07272727, 0.07272727, 0.12727273, 0.12727273,\n",
       "        0.16363636, 0.16363636, 0.2       , 0.2       , 0.25454545,\n",
       "        0.25454545, 0.29090909, 0.29090909, 0.34545455, 0.34545455,\n",
       "        0.38181818, 0.38181818, 0.41818182, 0.41818182, 0.49090909,\n",
       "        0.49090909, 0.56363636, 0.56363636, 0.58181818, 0.58181818,\n",
       "        0.67272727, 0.67272727, 0.72727273, 0.72727273, 0.78181818,\n",
       "        0.78181818, 0.81818182, 0.81818182, 0.87272727, 0.87272727,\n",
       "        0.89090909, 0.89090909, 0.92727273, 0.92727273, 0.94545455,\n",
       "        0.94545455, 0.96363636, 0.96363636, 0.98181818, 0.98181818,\n",
       "        1.        , 1.        ]),\n",
       " array([1.99010326, 0.99010326, 0.98542866, 0.98512732, 0.98033828,\n",
       "        0.95296483, 0.82379813, 0.81323108, 0.76450351, 0.75869063,\n",
       "        0.73788317, 0.73222168, 0.72742429, 0.69960435, 0.67336946,\n",
       "        0.67335029, 0.67002008, 0.66887007, 0.64089053, 0.6334029 ,\n",
       "        0.62577888, 0.61686046, 0.60662195, 0.60515612, 0.57283385,\n",
       "        0.56638411, 0.5626272 , 0.55967457, 0.55401241, 0.5468689 ,\n",
       "        0.52261858, 0.5085618 , 0.49646568, 0.48947625, 0.46271847,\n",
       "        0.454262  , 0.43773144, 0.43407367, 0.3959488 , 0.34277118,\n",
       "        0.33823962, 0.11511992, 0.10506294, 0.07729386, 0.07697532,\n",
       "        0.06842189, 0.06829659, 0.04398135, 0.04397607, 0.0390021 ,\n",
       "        0.03771711, 0.01939632]))"
      ]
     },
     "execution_count": 23,
     "metadata": {},
     "output_type": "execute_result"
    }
   ],
   "source": [
    "fpr,tpr,thresholds=roc_curve(y_test,pos_prob,pos_label='Y') #false positive rate and true positive rate values to plot au_roc curve\n",
    "fpr,tpr,thresholds"
   ]
  },
  {
   "cell_type": "code",
   "execution_count": 24,
   "metadata": {},
   "outputs": [
    {
     "data": {
      "text/plain": [
       "Text(0, 0.5, 'True positive rate')"
      ]
     },
     "execution_count": 24,
     "metadata": {},
     "output_type": "execute_result"
    },
    {
     "data": {
      "image/png": "[encoded data removed]",
      "text/plain": [
       "<Figure size 432x288 with 1 Axes>"
      ]
     },
     "metadata": {
      "needs_background": "light"
     },
     "output_type": "display_data"
    }
   ],
   "source": [
    "plt.plot(fpr,tpr) #auc_roc curve plot\n",
    "plt.xlabel('False positive rate')\n",
    "plt.ylabel('True positive rate')"
   ]
  },
  {
   "cell_type": "code",
   "execution_count": 25,
   "metadata": {},
   "outputs": [
    {
     "data": {
      "text/plain": [
       "0.8630721003134796"
      ]
     },
     "execution_count": 25,
     "metadata": {},
     "output_type": "execute_result"
    }
   ],
   "source": [
    "roc_auc_score(y_test,pos_prob) #calculating area under curve"
   ]
  }
 ],
 "metadata": {
  "kernelspec": {
   "display_name": "Python 3",
   "language": "python",
   "name": "python3"
  },
  "language_info": {
   "codemirror_mode": {
    "name": "ipython",
    "version": 3
   },
   "file_extension": ".py",
   "mimetype": "text/x-python",
   "name": "python",
   "nbconvert_exporter": "python",
   "pygments_lexer": "ipython3",
   "version": "3.8.5"
  }
 },
 "nbformat": 4,
 "nbformat_minor": 4
}
